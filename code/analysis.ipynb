{
 "cells": [
  {
   "cell_type": "markdown",
   "id": "fd1bb033",
   "metadata": {},
   "source": [
    "# Comprehensive Trust and Survivability Analysis\n",
    "This notebook uses an expanded dataset with 75 parameter combinations."
   ]
  },
  {
   "cell_type": "code",
   "execution_count": null,
   "id": "384e452e",
   "metadata": {},
   "outputs": [],
   "source": [
    "import pandas as pd\n",
    "import matplotlib.pyplot as plt\n",
    "import seaborn as sns\n",
    "\n",
    "# Load dataset\n",
    "df = pd.read_csv('../data/parameter_sweeps.csv')\n",
    "df.head()"
   ]
  },
  {
   "cell_type": "code",
   "execution_count": null,
   "id": "3b964fb1",
   "metadata": {},
   "outputs": [],
   "source": [
    "# Scatter plot: Trust Decay vs Survivability colored by Redundancy\n",
    "plt.figure(figsize=(8,5))\n",
    "sns.scatterplot(data=df, x='TrustDecay', y='Survivability', hue='Redundancy', palette='viridis')\n",
    "plt.title('Survivability by Trust Decay and Redundancy')\n",
    "plt.tight_layout()\n",
    "plt.show()"
   ]
  },
  {
   "cell_type": "code",
   "execution_count": null,
   "id": "6ec795e7",
   "metadata": {},
   "outputs": [],
   "source": [
    "# Heatmap: Redundancy vs Latency for average Survivability\n",
    "pivot = df.groupby(['Redundancy', 'Latency'])['Survivability'].mean().unstack()\n",
    "plt.figure(figsize=(6,5))\n",
    "sns.heatmap(pivot, annot=True, cmap='YlGnBu', fmt='.2f')\n",
    "plt.title('Avg Survivability Heatmap (Redundancy vs Latency)')\n",
    "plt.tight_layout()\n",
    "plt.show()"
   ]
  },
  {
   "cell_type": "code",
   "execution_count": null,
   "id": "2b0aacfd",
   "metadata": {},
   "outputs": [],
   "source": [
    "# Correlation matrix of all numeric columns\n",
    "plt.figure(figsize=(6,4))\n",
    "sns.heatmap(df.corr(), annot=True, cmap='coolwarm', fmt='.2f')\n",
    "plt.title('Feature Correlation Matrix')\n",
    "plt.tight_layout()\n",
    "plt.show()"
   ]
  },
  {
   "cell_type": "markdown",
   "id": "371600aa",
   "metadata": {},
   "source": [
    "### Conclusion\n",
    "Lower trust decay and higher redundancy consistently lead to stronger survivability metrics."
   ]
  }
 ],
 "metadata": {},
 "nbformat": 4,
 "nbformat_minor": 5
}
